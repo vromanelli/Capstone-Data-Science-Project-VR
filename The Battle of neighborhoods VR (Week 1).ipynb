{
 "cells": [
  {
   "cell_type": "markdown",
   "metadata": {},
   "source": [
    "# CAPSTONE PROJECT\n",
    "## The Battle of the Neighborhoods (Week 2)\n",
    "\n",
    "### Finding a place for new a chinese restaurant"
   ]
  },
  {
   "cell_type": "markdown",
   "metadata": {},
   "source": [
    "### __Introduction__\n",
    "The history of Chinese Americans or the history of ethnic Chinese in the United States includes three major waves of Chinese immigration since the 19th century, and they have been discriminated in many ways and even they had laws against the chinese, for example about the entry into the country. According of the 2010 United States Census, there were more than 3.3 million Chinese in the United States, which means about 1% of the total population and the biggest community outside  Asia, and this number is increasing. They have neighborhoods in many cities of USA, and New York City is not an excepction. \n",
    "\n",
    "In this capstone project i used differents types of data sources to get insights about the facts to consider to open a new chinese restaurant, considering that the chinese food is very appreciated worlwide, and even with the current panic about the diseases related with China this trend doesnt seem to change in the future"
   ]
  },
  {
   "cell_type": "markdown",
   "metadata": {},
   "source": [
    "### __Methodology__\n",
    "\n",
    "-The basic cata will be collected from https://cocl.us/new_york_dataset and then cleaned and processed into a pandas dataframe.\n",
    "\n",
    "-The FourSquare will be used to locate all venues and then filtered by chinese restaurants. \n",
    "\n",
    "-I will explore this data to get preliminary conclusions. \n",
    "\n",
    "-With the data about population and the rent prices i will have a more complete view about the city and its boroughs and neighborhoods. \n",
    "\n",
    "-Using all this information i will conclude about the best place to open a chinese restuarant. "
   ]
  },
  {
   "cell_type": "markdown",
   "metadata": {},
   "source": [
    "### __Data__\n",
    "\n",
    "To answer the question i used different data sources. The first step was obtaining data about the boroughs, neighborhoods and coordinates of the city, which is available in the data source: https://cocl.us/new_york_dataset.\n",
    "\n",
    "The data about the chinese restaurants will be obtained from the FourSquare API and requested with Python libraries.\n",
    "\n",
    "We also need information about the population of each borough and neighborhood, and i found that it is available in:\n",
    "\n",
    "https://data.cityofnewyork.us/City-Government/New-York-City-Population-By-Neighborhood-Tabulatio/swpk-hqdp\n",
    "\n",
    "To get aditional data from a non traditional source i will also use the data from Airbnb with the historic data of 2019, which is available in:\n",
    "\n",
    "https://www.kaggle.com/dgomonov/new-york-city-airbnb-open-data"
   ]
  }
 ],
 "metadata": {
  "kernelspec": {
   "display_name": "Python 3",
   "language": "python",
   "name": "python3"
  },
  "language_info": {
   "codemirror_mode": {
    "name": "ipython",
    "version": 3
   },
   "file_extension": ".py",
   "mimetype": "text/x-python",
   "name": "python",
   "nbconvert_exporter": "python",
   "pygments_lexer": "ipython3",
   "version": "3.4.10"
  }
 },
 "nbformat": 4,
 "nbformat_minor": 2
}
